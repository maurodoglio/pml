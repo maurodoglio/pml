{
 "cells": [
  {
   "cell_type": "markdown",
   "metadata": {},
   "source": [
    " ## Problem 0.1: Functions\n",
    " \n",
    "Implement a python function that takes an integer input and returns `True` if that number is divisible by 3 and 10 else returns `False`"
   ]
  },
  {
   "cell_type": "code",
   "execution_count": 1,
   "metadata": {},
   "outputs": [],
   "source": [
    "def div3and10(x):\n",
    "# Your code here\n",
    "    return x % 30 == 0\n",
    "\n",
    "print(div3and10(1) == False)\n",
    "print(div3and10(3) == False)\n",
    "print(div3and10(10) == False)\n",
    "print(div3and10(3*10) == True)\n",
    "print(div3and10(3*10*7) == True)\n",
    "print(div3and10(3*5*7) == False)"
   ]
  },
  {
   "cell_type": "markdown",
   "metadata": {},
   "source": [
    "## Problem 0.2: Reverse engineering functions\n",
    "Try to reverse engineer function `frev` which shows following behaviour. It takes 2 integer inputs `x1` and `x2` and returns a integer output `y`. Some of its inputs and outputs are listed below in the table  "
   ]
  },
  {
   "cell_type": "code",
   "execution_count": 2,
   "metadata": {},
   "outputs": [],
   "source": [
    "  \n",
    "'''\n",
    "+--------------+\n",
    "| frev         |\n",
    "+--------------+\n",
    "| x1 | x2 | y  |\n",
    "+----+----+----+\n",
    "| 2  | 3  | 4  |\n",
    "+----+----+----+\n",
    "| 8  | 5  | 9  |\n",
    "+----+----+----+\n",
    "| 6  | 4  | 7  |\n",
    "+----+----+----+\n",
    "| 10 | 2  | 7  |\n",
    "+----+----+----+\n",
    "| 4  | 2  | 4  |\n",
    "+----+----+----+\n",
    "| 16 | 7  | 15 |\n",
    "+----+----+----+\n",
    "'''\n",
    "def frev(x1, x2):\n",
    "    return x1 + x2 - x1//2\n",
    "    pass\n",
    "\n",
    "# Tests\n",
    "print(frev(16, 7) == 15)\n",
    "print(frev(4, 2) == 4)\n",
    "print(frev(10, 2) == 7)"
   ]
  },
  {
   "cell_type": "markdown",
   "metadata": {},
   "source": [
    "## Problem 0.3: Matrix Multiplication\n",
    "Implement the following python function `matrixMultiply` that multplies 2 matrices `x1` and `x2`\n",
    "if matrices can't be multiplied return `Cannot Multiply`. Feel free to use any numerical library if you like."
   ]
  },
  {
   "cell_type": "code",
   "execution_count": 3,
   "metadata": {},
   "outputs": [
    {
     "name": "stdout",
     "output_type": "stream",
     "text": [
      "Requirement already satisfied: numpy in /Users/mdoglio/.pyenv/versions/3.8.1/lib/python3.8/site-packages (1.19.2)\r\n"
     ]
    }
   ],
   "source": [
    "!pip install numpy"
   ]
  },
  {
   "cell_type": "code",
   "execution_count": 4,
   "metadata": {},
   "outputs": [
    {
     "name": "stdout",
     "output_type": "stream",
     "text": [
      "True\n",
      "True\n",
      "True\n",
      "True\n",
      "True\n",
      "True\n"
     ]
    }
   ],
   "source": [
    "from numpy import matmul\n",
    "\n",
    "\n",
    "ERR = \"Cannot Multiply\"\n",
    "\n",
    "def matrixMultiply(x1, x2):\n",
    "    if len(x1[0]) != len(x2):\n",
    "        return ERR\n",
    "    return matmul(x1, x2).tolist()\n",
    "    \n",
    "\n",
    "a = [[1,2], [2,2]] # A 2 X 2 matrix\n",
    "b = [[2,2], [3,2]] # A 2 X 2 matrix\n",
    "c = [[1,1,2]]  # A 1 X 3 matrix\n",
    "d = [[2],[3],[1]] # A 3 X 1 matrix\n",
    "\n",
    "\n",
    "print(matrixMultiply(a, a) == [[5,6], [6,8]])\n",
    "print(matrixMultiply(a, b) == [[8,6],[10,8]])\n",
    "print(matrixMultiply(c, d) == [[7]]) # A 1 X 1 matrix\n",
    "print(matrixMultiply(c, c) == ERR)\n",
    "print(matrixMultiply(d, d) == ERR)\n",
    "print(matrixMultiply(b, c) == ERR)\n"
   ]
  },
  {
   "cell_type": "code",
   "execution_count": null,
   "metadata": {},
   "outputs": [],
   "source": []
  }
 ],
 "metadata": {
  "kernelspec": {
   "display_name": "Python 3",
   "language": "python",
   "name": "python3"
  },
  "language_info": {
   "codemirror_mode": {
    "name": "ipython",
    "version": 3
   },
   "file_extension": ".py",
   "mimetype": "text/x-python",
   "name": "python",
   "nbconvert_exporter": "python",
   "pygments_lexer": "ipython3",
   "version": "3.8.1"
  }
 },
 "nbformat": 4,
 "nbformat_minor": 2
}
