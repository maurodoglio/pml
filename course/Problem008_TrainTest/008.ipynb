{
 "cells": [
  {
   "cell_type": "markdown",
   "metadata": {},
   "source": [
    "## Train Test Split\n"
   ]
  },
  {
   "cell_type": "code",
   "execution_count": 7,
   "metadata": {
    "scrolled": true
   },
   "outputs": [
    {
     "name": "stdout",
     "output_type": "stream",
     "text": [
      "[[[2, 3], [8, 5], [6, 4], [10, 2]], [4, 10, 6, 8], [[4, 2], [16, 7]], [3, 1]]\n"
     ]
    }
   ],
   "source": [
    "'''\n",
    "+--------------+\n",
    "| f            |\n",
    "+--------------+\n",
    "| x1 | x2 | y  |\n",
    "+----+----+----+\n",
    "| 2  | 3  | 4  |\n",
    "+----+----+----+\n",
    "| 8  | 5  | 10  |\n",
    "+----+----+----+\n",
    "| 6  | 4  | 6  |\n",
    "+----+----+----+\n",
    "| 10 | 2  | 8  |\n",
    "+----+----+----+\n",
    "| 4  | 2  | 3  |\n",
    "+----+----+----+\n",
    "| 16 | 7  | 1 |\n",
    "+----+----+----+\n",
    "'''\n",
    "\n",
    "X = [\n",
    "    [2, 3],\n",
    "    [8, 5],\n",
    "    [6, 4],\n",
    "    [10, 2],\n",
    "    [4, 2],\n",
    "    [16, 7]\n",
    "]\n",
    "\n",
    "Y = [4, 10, 6, 8, 3, 1]\n",
    "\n",
    "#TBD Split X, Y into two dataset pairs of 4 and 2 rows respectively,\n",
    "#(X_train, Y_train) and (X_test, Y_test)\n",
    "X_train, Y_train = X[:4], Y[:4]\n",
    "X_test, Y_test = X[4:], Y[4:]\n",
    "print([X_train, Y_train, X_test, Y_test])"
   ]
  },
  {
   "cell_type": "code",
   "execution_count": 10,
   "metadata": {},
   "outputs": [
    {
     "name": "stdout",
     "output_type": "stream",
     "text": [
      "[[[4, 2], [2, 3], [10, 2], [16, 7]], [[6, 4], [8, 5]], [3, 4, 8, 1], [6, 10]]\n"
     ]
    }
   ],
   "source": [
    "from sklearn.model_selection import train_test_split\n",
    "#Use sklearn \n",
    "X_train, Y_train, X_test, Y_test = train_test_split(X, Y, test_size=1/3, random_state=1)\n",
    "print([X_train, Y_train, X_test, Y_test])"
   ]
  },
  {
   "cell_type": "code",
   "execution_count": null,
   "metadata": {},
   "outputs": [],
   "source": []
  }
 ],
 "metadata": {
  "kernelspec": {
   "display_name": "Python 3",
   "language": "python",
   "name": "python3"
  },
  "language_info": {
   "codemirror_mode": {
    "name": "ipython",
    "version": 3
   },
   "file_extension": ".py",
   "mimetype": "text/x-python",
   "name": "python",
   "nbconvert_exporter": "python",
   "pygments_lexer": "ipython3",
   "version": "3.8.1"
  }
 },
 "nbformat": 4,
 "nbformat_minor": 2
}
