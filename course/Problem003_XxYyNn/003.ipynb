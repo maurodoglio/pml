{
 "cells": [
  {
   "cell_type": "markdown",
   "metadata": {},
   "source": [
    "# Load Boston Housing Dataset\n",
    "https://scikit-learn.org/stable/modules/generated/sklearn.datasets.load_boston.html#sklearn.datasets.load_boston"
   ]
  },
  {
   "cell_type": "code",
   "execution_count": 65,
   "metadata": {
    "scrolled": true
   },
   "outputs": [],
   "source": [
    "from sklearn.datasets import load_boston\n",
    "import pandas as pd\n",
    "house_data = load_boston()\n",
    "house_df = pd.DataFrame(house_data.data)"
   ]
  },
  {
   "cell_type": "code",
   "execution_count": 66,
   "metadata": {},
   "outputs": [
    {
     "data": {
      "text/plain": [
       "506"
      ]
     },
     "execution_count": 66,
     "metadata": {},
     "output_type": "execute_result"
    }
   ],
   "source": [
    "# How many houses are there (N)\n",
    "house_df.shape[0]"
   ]
  },
  {
   "cell_type": "code",
   "execution_count": 67,
   "metadata": {},
   "outputs": [
    {
     "data": {
      "text/plain": [
       "13"
      ]
     },
     "execution_count": 67,
     "metadata": {},
     "output_type": "execute_result"
    }
   ],
   "source": [
    "# A house has how many attributes(or features or signals or dimensions or columns)\n",
    "\n",
    "house_df.shape[1]"
   ]
  },
  {
   "cell_type": "code",
   "execution_count": 68,
   "metadata": {},
   "outputs": [],
   "source": [
    "house_df.columns = house_data.feature_names\n",
    "house_df['PRICE'] = house_data.target"
   ]
  },
  {
   "cell_type": "code",
   "execution_count": 69,
   "metadata": {},
   "outputs": [
    {
     "data": {
      "text/plain": [
       "24.0"
      ]
     },
     "execution_count": 69,
     "metadata": {},
     "output_type": "execute_result"
    }
   ],
   "source": [
    "# Whats the Median value of the first house (target or label or output y)\n",
    "house_df['PRICE'][0]"
   ]
  },
  {
   "cell_type": "code",
   "execution_count": 84,
   "metadata": {},
   "outputs": [
    {
     "data": {
      "text/plain": [
       "6.03"
      ]
     },
     "execution_count": 84,
     "metadata": {},
     "output_type": "execute_result"
    }
   ],
   "source": [
    "# Whats the value of feature RM (average number of rooms per dwelling) for the last house\n",
    "house_df['RM'][house_df.shape[0]-1]\n",
    "# len(house_data['data'][0])"
   ]
  },
  {
   "cell_type": "markdown",
   "metadata": {},
   "source": [
    "#### House 8 all features\n",
    "$\n",
    "\\begin{align}\n",
    "X^{8} \n",
    "\\end{align}\n",
    "$\n"
   ]
  },
  {
   "cell_type": "code",
   "execution_count": 88,
   "metadata": {},
   "outputs": [
    {
     "data": {
      "text/plain": [
       "CRIM         0.14455\n",
       "ZN          12.50000\n",
       "INDUS        7.87000\n",
       "CHAS         0.00000\n",
       "NOX          0.52400\n",
       "RM           6.17200\n",
       "AGE         96.10000\n",
       "DIS          5.95050\n",
       "RAD          5.00000\n",
       "TAX        311.00000\n",
       "PTRATIO     15.20000\n",
       "B          396.90000\n",
       "LSTAT       19.15000\n",
       "PRICE       27.10000\n",
       "Name: 7, dtype: float64"
      ]
     },
     "execution_count": 88,
     "metadata": {},
     "output_type": "execute_result"
    }
   ],
   "source": [
    "house_df.iloc[7]"
   ]
  },
  {
   "cell_type": "markdown",
   "metadata": {},
   "source": [
    "#### House 8,  feature 2\n",
    "(INDUS proportion of non-retail business acres per town)\n",
    "\n",
    "$\n",
    "\\begin{align}\n",
    "X_{2}^{8}\n",
    "\\end{align}\n",
    "$\n"
   ]
  },
  {
   "cell_type": "code",
   "execution_count": 89,
   "metadata": {},
   "outputs": [
    {
     "data": {
      "text/plain": [
       "7.87"
      ]
     },
     "execution_count": 89,
     "metadata": {},
     "output_type": "execute_result"
    }
   ],
   "source": [
    "house_df.iloc[7]['INDUS']"
   ]
  },
  {
   "cell_type": "markdown",
   "metadata": {},
   "source": [
    "#### All houses feature 4\n",
    "(NOX nitric oxides concentration)\n",
    "\n",
    "$\n",
    "\\begin{align}\n",
    "X_{4}\n",
    "\\end{align}\n",
    "$\n"
   ]
  },
  {
   "cell_type": "code",
   "execution_count": 90,
   "metadata": {},
   "outputs": [
    {
     "data": {
      "text/plain": [
       "0      0.538\n",
       "1      0.469\n",
       "2      0.469\n",
       "3      0.458\n",
       "4      0.458\n",
       "       ...  \n",
       "501    0.573\n",
       "502    0.573\n",
       "503    0.573\n",
       "504    0.573\n",
       "505    0.573\n",
       "Name: NOX, Length: 506, dtype: float64"
      ]
     },
     "execution_count": 90,
     "metadata": {},
     "output_type": "execute_result"
    }
   ],
   "source": [
    "house_df['NOX']"
   ]
  },
  {
   "cell_type": "markdown",
   "metadata": {},
   "source": [
    "#### Target value for house 4\n",
    "$\n",
    "Y^{4}\n",
    "$\n"
   ]
  },
  {
   "cell_type": "code",
   "execution_count": 91,
   "metadata": {},
   "outputs": [
    {
     "data": {
      "text/plain": [
       "33.4"
      ]
     },
     "execution_count": 91,
     "metadata": {},
     "output_type": "execute_result"
    }
   ],
   "source": [
    "house_df.iloc[3]['PRICE']"
   ]
  },
  {
   "cell_type": "markdown",
   "metadata": {},
   "source": [
    "Small *x* and *y* are used to represent a *feature* and *target* of a single house\n",
    "#### Which among the following could be valid representation?\n",
    "$\n",
    "x^{4}\\:, \\: x_{2}\\:,\\:y^{4}\\:,\\:y_{2}\n",
    "$\n",
    "\n"
   ]
  },
  {
   "cell_type": "code",
   "execution_count": 93,
   "metadata": {},
   "outputs": [
    {
     "data": {
      "text/plain": [
       "['x2', 'y2']"
      ]
     },
     "execution_count": 93,
     "metadata": {},
     "output_type": "execute_result"
    }
   ],
   "source": [
    "['x2', 'y2']"
   ]
  },
  {
   "cell_type": "code",
   "execution_count": null,
   "metadata": {},
   "outputs": [],
   "source": []
  }
 ],
 "metadata": {
  "kernelspec": {
   "display_name": "Python 3",
   "language": "python",
   "name": "python3"
  },
  "language_info": {
   "codemirror_mode": {
    "name": "ipython",
    "version": 3
   },
   "file_extension": ".py",
   "mimetype": "text/x-python",
   "name": "python",
   "nbconvert_exporter": "python",
   "pygments_lexer": "ipython3",
   "version": "3.8.1"
  }
 },
 "nbformat": 4,
 "nbformat_minor": 2
}
